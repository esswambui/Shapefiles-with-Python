{
  "nbformat": 4,
  "nbformat_minor": 5,
  "metadata": {
    "kernelspec": {
      "display_name": "Python 3",
      "language": "python",
      "name": "python3"
    },
    "language_info": {
      "codemirror_mode": {
        "name": "ipython",
        "version": 3
      },
      "file_extension": ".py",
      "mimetype": "text/x-python",
      "name": "python",
      "nbconvert_exporter": "python",
      "pygments_lexer": "ipython3",
      "version": "3.9.5"
    },
    "colab": {
      "name": "ShapefileGeneration.ipynb",
      "provenance": []
    }
  },
  "cells": [
    {
      "cell_type": "code",
      "metadata": {
        "id": "jkcoPhANMfK_",
        "colab": {
          "base_uri": "https://localhost:8080/"
        },
        "collapsed": true,
        "outputId": "bcc90d85-aa1c-4f4d-8c7f-e34f35535c5c"
      },
      "source": [
        "pip install fiona"
      ],
      "id": "jkcoPhANMfK_",
      "execution_count": 1,
      "outputs": [
        {
          "output_type": "stream",
          "name": "stdout",
          "text": [
            "Collecting fiona\n",
            "  Downloading Fiona-1.8.20-cp37-cp37m-manylinux1_x86_64.whl (15.4 MB)\n",
            "\u001b[K     |████████████████████████████████| 15.4 MB 39 kB/s \n",
            "\u001b[?25hCollecting click-plugins>=1.0\n",
            "  Downloading click_plugins-1.1.1-py2.py3-none-any.whl (7.5 kB)\n",
            "Requirement already satisfied: six>=1.7 in /usr/local/lib/python3.7/dist-packages (from fiona) (1.15.0)\n",
            "Requirement already satisfied: click>=4.0 in /usr/local/lib/python3.7/dist-packages (from fiona) (7.1.2)\n",
            "Requirement already satisfied: certifi in /usr/local/lib/python3.7/dist-packages (from fiona) (2021.5.30)\n",
            "Requirement already satisfied: attrs>=17 in /usr/local/lib/python3.7/dist-packages (from fiona) (21.2.0)\n",
            "Collecting munch\n",
            "  Downloading munch-2.5.0-py2.py3-none-any.whl (10 kB)\n",
            "Requirement already satisfied: setuptools in /usr/local/lib/python3.7/dist-packages (from fiona) (57.4.0)\n",
            "Collecting cligj>=0.5\n",
            "  Downloading cligj-0.7.2-py3-none-any.whl (7.1 kB)\n",
            "Installing collected packages: munch, cligj, click-plugins, fiona\n",
            "Successfully installed click-plugins-1.1.1 cligj-0.7.2 fiona-1.8.20 munch-2.5.0\n"
          ]
        }
      ]
    },
    {
      "cell_type": "code",
      "metadata": {
        "id": "4698413e-344d-4d39-bef0-3e3bad1152e8"
      },
      "source": [
        "#import required packages\n",
        "import fiona\n",
        "import pandas as pd"
      ],
      "id": "4698413e-344d-4d39-bef0-3e3bad1152e8",
      "execution_count": 2,
      "outputs": []
    },
    {
      "cell_type": "markdown",
      "metadata": {
        "id": "62044894-999a-4428-b9a5-864b7a85e0cf"
      },
      "source": [
        "<hr/> \n",
        "\n",
        "### Create point shapefile"
      ],
      "id": "62044894-999a-4428-b9a5-864b7a85e0cf"
    },
    {
      "cell_type": "code",
      "metadata": {
        "id": "67111d8a-7b78-4cf8-ae32-b92ddb439d2e",
        "colab": {
          "base_uri": "https://localhost:8080/",
          "height": 205
        },
        "outputId": "b5531e82-1bbe-433a-ba58-c1b15eb2545e"
      },
      "source": [
        "#import points from csv file\n",
        "pointDf = pd.read_csv('/content/cropPoints.csv',header=0)\n",
        "pointDf.head()"
      ],
      "id": "67111d8a-7b78-4cf8-ae32-b92ddb439d2e",
      "execution_count": 3,
      "outputs": [
        {
          "output_type": "execute_result",
          "data": {
            "text/html": [
              "<div>\n",
              "<style scoped>\n",
              "    .dataframe tbody tr th:only-of-type {\n",
              "        vertical-align: middle;\n",
              "    }\n",
              "\n",
              "    .dataframe tbody tr th {\n",
              "        vertical-align: top;\n",
              "    }\n",
              "\n",
              "    .dataframe thead th {\n",
              "        text-align: right;\n",
              "    }\n",
              "</style>\n",
              "<table border=\"1\" class=\"dataframe\">\n",
              "  <thead>\n",
              "    <tr style=\"text-align: right;\">\n",
              "      <th></th>\n",
              "      <th>X</th>\n",
              "      <th>Y</th>\n",
              "      <th>Name</th>\n",
              "    </tr>\n",
              "  </thead>\n",
              "  <tbody>\n",
              "    <tr>\n",
              "      <th>0</th>\n",
              "      <td>-84.200969</td>\n",
              "      <td>9.480966</td>\n",
              "      <td>Plant1</td>\n",
              "    </tr>\n",
              "    <tr>\n",
              "      <th>1</th>\n",
              "      <td>-84.200841</td>\n",
              "      <td>9.480931</td>\n",
              "      <td>Plant2</td>\n",
              "    </tr>\n",
              "    <tr>\n",
              "      <th>2</th>\n",
              "      <td>-84.201841</td>\n",
              "      <td>9.481167</td>\n",
              "      <td>Plant3</td>\n",
              "    </tr>\n",
              "    <tr>\n",
              "      <th>3</th>\n",
              "      <td>-84.200862</td>\n",
              "      <td>9.479898</td>\n",
              "      <td>Plant4</td>\n",
              "    </tr>\n",
              "    <tr>\n",
              "      <th>4</th>\n",
              "      <td>-84.200657</td>\n",
              "      <td>9.479586</td>\n",
              "      <td>Plant5</td>\n",
              "    </tr>\n",
              "  </tbody>\n",
              "</table>\n",
              "</div>"
            ],
            "text/plain": [
              "           X         Y    Name\n",
              "0 -84.200969  9.480966  Plant1\n",
              "1 -84.200841  9.480931  Plant2\n",
              "2 -84.201841  9.481167  Plant3\n",
              "3 -84.200862  9.479898  Plant4\n",
              "4 -84.200657  9.479586  Plant5"
            ]
          },
          "metadata": {},
          "execution_count": 3
        }
      ]
    },
    {
      "cell_type": "code",
      "metadata": {
        "id": "637e3519-4529-4565-9b80-83c0ea8f5f92"
      },
      "source": [
        "# define schema\n",
        "schema = {\n",
        "    'geometry':'Point',\n",
        "    'properties':[('Name','str')]\n",
        "}\n"
      ],
      "id": "637e3519-4529-4565-9b80-83c0ea8f5f92",
      "execution_count": 4,
      "outputs": []
    },
    {
      "cell_type": "code",
      "metadata": {
        "id": "720000bb-2c90-4640-8a46-24e5642adada"
      },
      "source": [
        "#open a fiona object\n",
        "pointShp = fiona.open('/content/cropPoints.shp', mode='w', driver='ESRI Shapefile',\n",
        "          schema = schema, crs = \"EPSG:4326\")"
      ],
      "id": "720000bb-2c90-4640-8a46-24e5642adada",
      "execution_count": 6,
      "outputs": []
    },
    {
      "cell_type": "code",
      "metadata": {
        "id": "e25f6f22-80f7-4f10-a0a6-56929ceab386"
      },
      "source": [
        "#iterate over each row in the dataframe and save record\n",
        "for index, row in pointDf.iterrows():\n",
        "    rowDict = {\n",
        "        'geometry' : {'type':'Point',\n",
        "                     'coordinates': (row.X,row.Y)},\n",
        "        'properties': {'Name' : row.Name},\n",
        "    }\n",
        "    pointShp.write(rowDict)\n",
        "#close fiona object\n",
        "pointShp.close()"
      ],
      "id": "e25f6f22-80f7-4f10-a0a6-56929ceab386",
      "execution_count": 7,
      "outputs": []
    },
    {
      "cell_type": "markdown",
      "metadata": {
        "id": "0c725126-ee4a-4fe7-a459-b3925473133a"
      },
      "source": [
        "<hr/> \n",
        "\n",
        "### Create line shapefile"
      ],
      "id": "0c725126-ee4a-4fe7-a459-b3925473133a"
    },
    {
      "cell_type": "code",
      "metadata": {
        "id": "03864235-02e8-4e3e-8b00-5d1092c5e294",
        "colab": {
          "base_uri": "https://localhost:8080/",
          "height": 331
        },
        "outputId": "5e9b88ce-2e51-403c-cc93-96e3072cec04"
      },
      "source": [
        "#import line vertex from csv file\n",
        "lineDf = pd.read_csv('/content/cropLine.csv',header=0)\n",
        "lineDf.head(10)"
      ],
      "id": "03864235-02e8-4e3e-8b00-5d1092c5e294",
      "execution_count": 8,
      "outputs": [
        {
          "output_type": "execute_result",
          "data": {
            "text/html": [
              "<div>\n",
              "<style scoped>\n",
              "    .dataframe tbody tr th:only-of-type {\n",
              "        vertical-align: middle;\n",
              "    }\n",
              "\n",
              "    .dataframe tbody tr th {\n",
              "        vertical-align: top;\n",
              "    }\n",
              "\n",
              "    .dataframe thead th {\n",
              "        text-align: right;\n",
              "    }\n",
              "</style>\n",
              "<table border=\"1\" class=\"dataframe\">\n",
              "  <thead>\n",
              "    <tr style=\"text-align: right;\">\n",
              "      <th></th>\n",
              "      <th>X</th>\n",
              "      <th>Y</th>\n",
              "      <th>Name</th>\n",
              "    </tr>\n",
              "  </thead>\n",
              "  <tbody>\n",
              "    <tr>\n",
              "      <th>0</th>\n",
              "      <td>-84.201990</td>\n",
              "      <td>9.480380</td>\n",
              "      <td>Row1</td>\n",
              "    </tr>\n",
              "    <tr>\n",
              "      <th>1</th>\n",
              "      <td>-84.201928</td>\n",
              "      <td>9.480319</td>\n",
              "      <td>Row1</td>\n",
              "    </tr>\n",
              "    <tr>\n",
              "      <th>2</th>\n",
              "      <td>-84.201871</td>\n",
              "      <td>9.480261</td>\n",
              "      <td>Row1</td>\n",
              "    </tr>\n",
              "    <tr>\n",
              "      <th>3</th>\n",
              "      <td>-84.201820</td>\n",
              "      <td>9.480199</td>\n",
              "      <td>Row1</td>\n",
              "    </tr>\n",
              "    <tr>\n",
              "      <th>4</th>\n",
              "      <td>-84.201756</td>\n",
              "      <td>9.480133</td>\n",
              "      <td>Row1</td>\n",
              "    </tr>\n",
              "    <tr>\n",
              "      <th>5</th>\n",
              "      <td>-84.201702</td>\n",
              "      <td>9.480071</td>\n",
              "      <td>Row1</td>\n",
              "    </tr>\n",
              "    <tr>\n",
              "      <th>6</th>\n",
              "      <td>-84.201650</td>\n",
              "      <td>9.480018</td>\n",
              "      <td>Row1</td>\n",
              "    </tr>\n",
              "    <tr>\n",
              "      <th>7</th>\n",
              "      <td>-84.201592</td>\n",
              "      <td>9.479954</td>\n",
              "      <td>Row1</td>\n",
              "    </tr>\n",
              "    <tr>\n",
              "      <th>8</th>\n",
              "      <td>-84.201536</td>\n",
              "      <td>9.479890</td>\n",
              "      <td>Row1</td>\n",
              "    </tr>\n",
              "  </tbody>\n",
              "</table>\n",
              "</div>"
            ],
            "text/plain": [
              "           X         Y  Name\n",
              "0 -84.201990  9.480380  Row1\n",
              "1 -84.201928  9.480319  Row1\n",
              "2 -84.201871  9.480261  Row1\n",
              "3 -84.201820  9.480199  Row1\n",
              "4 -84.201756  9.480133  Row1\n",
              "5 -84.201702  9.480071  Row1\n",
              "6 -84.201650  9.480018  Row1\n",
              "7 -84.201592  9.479954  Row1\n",
              "8 -84.201536  9.479890  Row1"
            ]
          },
          "metadata": {},
          "execution_count": 8
        }
      ]
    },
    {
      "cell_type": "code",
      "metadata": {
        "id": "bee3dfdb-b080-4e28-9f16-562a63024648"
      },
      "source": [
        "# define schema\n",
        "schema = {\n",
        "    'geometry':'LineString',\n",
        "    'properties':[('Name','str')]\n",
        "}"
      ],
      "id": "bee3dfdb-b080-4e28-9f16-562a63024648",
      "execution_count": 10,
      "outputs": []
    },
    {
      "cell_type": "code",
      "metadata": {
        "id": "b499d633-0c53-45b5-ba48-a0bc658fca69"
      },
      "source": [
        "#open a fiona object\n",
        "lineShp = fiona.open('/content/cropLine.shp', mode='w', driver='ESRI Shapefile',\n",
        "          schema = schema, crs = \"EPSG:4326\")"
      ],
      "id": "b499d633-0c53-45b5-ba48-a0bc658fca69",
      "execution_count": 12,
      "outputs": []
    },
    {
      "cell_type": "code",
      "metadata": {
        "id": "081b3a77-5fcb-4899-a57f-75693f216153",
        "colab": {
          "base_uri": "https://localhost:8080/"
        },
        "outputId": "2ed3c11b-edc4-4fd7-af31-82612ea0fe5a"
      },
      "source": [
        "#get list of points\n",
        "xyList = []\n",
        "rowName = ''\n",
        "for index, row in lineDf.iterrows():\n",
        "    xyList.append((row.X,row.Y))\n",
        "    rowName = row.Name\n",
        "xyList[:10]"
      ],
      "id": "081b3a77-5fcb-4899-a57f-75693f216153",
      "execution_count": 13,
      "outputs": [
        {
          "output_type": "execute_result",
          "data": {
            "text/plain": [
              "[(-84.20199048930691, 9.48038022019686),\n",
              " (-84.2019279965972, 9.480319262464471),\n",
              " (-84.2018711206848, 9.48026145133191),\n",
              " (-84.2018196550243, 9.48019910289781),\n",
              " (-84.20175590920171, 9.48013268586072),\n",
              " (-84.2017022617913, 9.48007149365889),\n",
              " (-84.20164992658809, 9.480017956049949),\n",
              " (-84.20159176810151, 9.479953587860349),\n",
              " (-84.2015358504455, 9.47989025875836)]"
            ]
          },
          "metadata": {},
          "execution_count": 13
        }
      ]
    },
    {
      "cell_type": "code",
      "metadata": {
        "id": "c1400488-4681-4ee1-b79a-398f1da06421"
      },
      "source": [
        "#save record and close shapefile\n",
        "rowDict = {\n",
        "'geometry' : {'type':'LineString',\n",
        "                 'coordinates': xyList},\n",
        "'properties': {'Name' : rowName},\n",
        "}\n",
        "lineShp.write(rowDict)\n",
        "#close fiona object\n",
        "lineShp.close()"
      ],
      "id": "c1400488-4681-4ee1-b79a-398f1da06421",
      "execution_count": 14,
      "outputs": []
    },
    {
      "cell_type": "markdown",
      "metadata": {
        "id": "b7663dd2-99c2-4355-91cf-f238c9828fce"
      },
      "source": [
        "<hr/> \n",
        "\n",
        "### Create polygon shapefile"
      ],
      "id": "b7663dd2-99c2-4355-91cf-f238c9828fce"
    },
    {
      "cell_type": "code",
      "metadata": {
        "id": "aa57b1f7-2fab-413b-a426-3214c24b2448",
        "colab": {
          "base_uri": "https://localhost:8080/",
          "height": 205
        },
        "outputId": "54525469-158f-4e98-997d-407c894ba6f7"
      },
      "source": [
        "#import line vertex from csv file\n",
        "polyDf = pd.read_csv('/content/cropPoly.csv',header=0)\n",
        "polyDf.head()"
      ],
      "id": "aa57b1f7-2fab-413b-a426-3214c24b2448",
      "execution_count": 15,
      "outputs": [
        {
          "output_type": "execute_result",
          "data": {
            "text/html": [
              "<div>\n",
              "<style scoped>\n",
              "    .dataframe tbody tr th:only-of-type {\n",
              "        vertical-align: middle;\n",
              "    }\n",
              "\n",
              "    .dataframe tbody tr th {\n",
              "        vertical-align: top;\n",
              "    }\n",
              "\n",
              "    .dataframe thead th {\n",
              "        text-align: right;\n",
              "    }\n",
              "</style>\n",
              "<table border=\"1\" class=\"dataframe\">\n",
              "  <thead>\n",
              "    <tr style=\"text-align: right;\">\n",
              "      <th></th>\n",
              "      <th>X</th>\n",
              "      <th>Y</th>\n",
              "      <th>Name</th>\n",
              "    </tr>\n",
              "  </thead>\n",
              "  <tbody>\n",
              "    <tr>\n",
              "      <th>0</th>\n",
              "      <td>-84.202396</td>\n",
              "      <td>9.480334</td>\n",
              "      <td>Border1</td>\n",
              "    </tr>\n",
              "    <tr>\n",
              "      <th>1</th>\n",
              "      <td>-84.202190</td>\n",
              "      <td>9.480555</td>\n",
              "      <td>Border1</td>\n",
              "    </tr>\n",
              "    <tr>\n",
              "      <th>2</th>\n",
              "      <td>-84.201886</td>\n",
              "      <td>9.480792</td>\n",
              "      <td>Border1</td>\n",
              "    </tr>\n",
              "    <tr>\n",
              "      <th>3</th>\n",
              "      <td>-84.201529</td>\n",
              "      <td>9.481153</td>\n",
              "      <td>Border1</td>\n",
              "    </tr>\n",
              "    <tr>\n",
              "      <th>4</th>\n",
              "      <td>-84.201307</td>\n",
              "      <td>9.481303</td>\n",
              "      <td>Border1</td>\n",
              "    </tr>\n",
              "  </tbody>\n",
              "</table>\n",
              "</div>"
            ],
            "text/plain": [
              "           X         Y     Name\n",
              "0 -84.202396  9.480334  Border1\n",
              "1 -84.202190  9.480555  Border1\n",
              "2 -84.201886  9.480792  Border1\n",
              "3 -84.201529  9.481153  Border1\n",
              "4 -84.201307  9.481303  Border1"
            ]
          },
          "metadata": {},
          "execution_count": 15
        }
      ]
    },
    {
      "cell_type": "code",
      "metadata": {
        "id": "cf32e415-6c60-4286-b115-c84e1145acc1",
        "colab": {
          "base_uri": "https://localhost:8080/",
          "height": 205
        },
        "outputId": "fe1947f3-f058-4c2c-e01b-1f317336a4ec"
      },
      "source": [
        "#show the last item\n",
        "polyDf.tail()"
      ],
      "id": "cf32e415-6c60-4286-b115-c84e1145acc1",
      "execution_count": 16,
      "outputs": [
        {
          "output_type": "execute_result",
          "data": {
            "text/html": [
              "<div>\n",
              "<style scoped>\n",
              "    .dataframe tbody tr th:only-of-type {\n",
              "        vertical-align: middle;\n",
              "    }\n",
              "\n",
              "    .dataframe tbody tr th {\n",
              "        vertical-align: top;\n",
              "    }\n",
              "\n",
              "    .dataframe thead th {\n",
              "        text-align: right;\n",
              "    }\n",
              "</style>\n",
              "<table border=\"1\" class=\"dataframe\">\n",
              "  <thead>\n",
              "    <tr style=\"text-align: right;\">\n",
              "      <th></th>\n",
              "      <th>X</th>\n",
              "      <th>Y</th>\n",
              "      <th>Name</th>\n",
              "    </tr>\n",
              "  </thead>\n",
              "  <tbody>\n",
              "    <tr>\n",
              "      <th>19</th>\n",
              "      <td>-84.201742</td>\n",
              "      <td>9.479385</td>\n",
              "      <td>Border1</td>\n",
              "    </tr>\n",
              "    <tr>\n",
              "      <th>20</th>\n",
              "      <td>-84.201863</td>\n",
              "      <td>9.479413</td>\n",
              "      <td>Border1</td>\n",
              "    </tr>\n",
              "    <tr>\n",
              "      <th>21</th>\n",
              "      <td>-84.202157</td>\n",
              "      <td>9.479673</td>\n",
              "      <td>Border1</td>\n",
              "    </tr>\n",
              "    <tr>\n",
              "      <th>22</th>\n",
              "      <td>-84.202398</td>\n",
              "      <td>9.479917</td>\n",
              "      <td>Border1</td>\n",
              "    </tr>\n",
              "    <tr>\n",
              "      <th>23</th>\n",
              "      <td>-84.202396</td>\n",
              "      <td>9.480334</td>\n",
              "      <td>Border1</td>\n",
              "    </tr>\n",
              "  </tbody>\n",
              "</table>\n",
              "</div>"
            ],
            "text/plain": [
              "            X         Y     Name\n",
              "19 -84.201742  9.479385  Border1\n",
              "20 -84.201863  9.479413  Border1\n",
              "21 -84.202157  9.479673  Border1\n",
              "22 -84.202398  9.479917  Border1\n",
              "23 -84.202396  9.480334  Border1"
            ]
          },
          "metadata": {},
          "execution_count": 16
        }
      ]
    },
    {
      "cell_type": "code",
      "metadata": {
        "id": "b441c3b2-e710-42bf-b0ad-ba2d13a04962"
      },
      "source": [
        "# define schema\n",
        "schema = {\n",
        "    'geometry':'Polygon',\n",
        "    'properties':[('Name','str')]\n",
        "}"
      ],
      "id": "b441c3b2-e710-42bf-b0ad-ba2d13a04962",
      "execution_count": 17,
      "outputs": []
    },
    {
      "cell_type": "code",
      "metadata": {
        "id": "56ae71b4-12cc-4d86-a264-7bb074dc4dd6"
      },
      "source": [
        "#open a fiona object\n",
        "polyShp = fiona.open('/content/cropPoly.shp', mode='w', driver='ESRI Shapefile',\n",
        "          schema = schema, crs = \"EPSG:4326\")"
      ],
      "id": "56ae71b4-12cc-4d86-a264-7bb074dc4dd6",
      "execution_count": 18,
      "outputs": []
    },
    {
      "cell_type": "code",
      "metadata": {
        "id": "50d04bf8-9a36-4635-bb4b-5273a4d32718",
        "colab": {
          "base_uri": "https://localhost:8080/"
        },
        "outputId": "8efcd279-f267-4c22-f4eb-247fb4581061"
      },
      "source": [
        "#get list of points\n",
        "xyList = []\n",
        "rowName = ''\n",
        "for index, row in polyDf.iterrows():\n",
        "    xyList.append((row.X,row.Y))\n",
        "    rowName = row.Name\n",
        "xyList[:5]"
      ],
      "id": "50d04bf8-9a36-4635-bb4b-5273a4d32718",
      "execution_count": 19,
      "outputs": [
        {
          "output_type": "execute_result",
          "data": {
            "text/plain": [
              "[(-84.20239642444, 9.48033431305493),\n",
              " (-84.20218992317409, 9.48055508704213),\n",
              " (-84.20188647832009, 9.48079161161365),\n",
              " (-84.2015288437831, 9.48115260231102),\n",
              " (-84.20130718506941, 9.4813034753504)]"
            ]
          },
          "metadata": {},
          "execution_count": 19
        }
      ]
    },
    {
      "cell_type": "code",
      "metadata": {
        "id": "1c89176f-d2f8-4624-a26b-208ed9c51b81"
      },
      "source": [
        "#save record and close shapefile\n",
        "rowDict = {\n",
        "'geometry' : {'type':'Polygon',\n",
        "                 'coordinates': [xyList]}, #Here the xyList is in brackets\n",
        "'properties': {'Name' : rowName},\n",
        "}\n",
        "polyShp.write(rowDict)\n",
        "#close fiona object\n",
        "polyShp.close()"
      ],
      "id": "1c89176f-d2f8-4624-a26b-208ed9c51b81",
      "execution_count": 20,
      "outputs": []
    },
    {
      "cell_type": "code",
      "metadata": {
        "id": "VyWL_k_yPdSU",
        "colab": {
          "base_uri": "https://localhost:8080/"
        },
        "collapsed": true,
        "outputId": "d26290ec-aec1-4c7d-d7f5-6a9b2e890bcc"
      },
      "source": [
        "pip install geopandas"
      ],
      "id": "VyWL_k_yPdSU",
      "execution_count": 21,
      "outputs": [
        {
          "output_type": "stream",
          "name": "stdout",
          "text": [
            "Collecting geopandas\n",
            "  Downloading geopandas-0.10.2-py2.py3-none-any.whl (1.0 MB)\n",
            "\u001b[?25l\r\u001b[K     |▎                               | 10 kB 21.9 MB/s eta 0:00:01\r\u001b[K     |▋                               | 20 kB 24.7 MB/s eta 0:00:01\r\u001b[K     |█                               | 30 kB 27.5 MB/s eta 0:00:01\r\u001b[K     |█▎                              | 40 kB 29.9 MB/s eta 0:00:01\r\u001b[K     |█▋                              | 51 kB 30.9 MB/s eta 0:00:01\r\u001b[K     |██                              | 61 kB 32.3 MB/s eta 0:00:01\r\u001b[K     |██▎                             | 71 kB 32.9 MB/s eta 0:00:01\r\u001b[K     |██▌                             | 81 kB 34.3 MB/s eta 0:00:01\r\u001b[K     |██▉                             | 92 kB 30.2 MB/s eta 0:00:01\r\u001b[K     |███▏                            | 102 kB 29.6 MB/s eta 0:00:01\r\u001b[K     |███▌                            | 112 kB 29.6 MB/s eta 0:00:01\r\u001b[K     |███▉                            | 122 kB 29.6 MB/s eta 0:00:01\r\u001b[K     |████▏                           | 133 kB 29.6 MB/s eta 0:00:01\r\u001b[K     |████▌                           | 143 kB 29.6 MB/s eta 0:00:01\r\u001b[K     |████▊                           | 153 kB 29.6 MB/s eta 0:00:01\r\u001b[K     |█████                           | 163 kB 29.6 MB/s eta 0:00:01\r\u001b[K     |█████▍                          | 174 kB 29.6 MB/s eta 0:00:01\r\u001b[K     |█████▊                          | 184 kB 29.6 MB/s eta 0:00:01\r\u001b[K     |██████                          | 194 kB 29.6 MB/s eta 0:00:01\r\u001b[K     |██████▍                         | 204 kB 29.6 MB/s eta 0:00:01\r\u001b[K     |██████▊                         | 215 kB 29.6 MB/s eta 0:00:01\r\u001b[K     |███████                         | 225 kB 29.6 MB/s eta 0:00:01\r\u001b[K     |███████▎                        | 235 kB 29.6 MB/s eta 0:00:01\r\u001b[K     |███████▋                        | 245 kB 29.6 MB/s eta 0:00:01\r\u001b[K     |████████                        | 256 kB 29.6 MB/s eta 0:00:01\r\u001b[K     |████████▎                       | 266 kB 29.6 MB/s eta 0:00:01\r\u001b[K     |████████▋                       | 276 kB 29.6 MB/s eta 0:00:01\r\u001b[K     |█████████                       | 286 kB 29.6 MB/s eta 0:00:01\r\u001b[K     |█████████▏                      | 296 kB 29.6 MB/s eta 0:00:01\r\u001b[K     |█████████▌                      | 307 kB 29.6 MB/s eta 0:00:01\r\u001b[K     |█████████▉                      | 317 kB 29.6 MB/s eta 0:00:01\r\u001b[K     |██████████▏                     | 327 kB 29.6 MB/s eta 0:00:01\r\u001b[K     |██████████▌                     | 337 kB 29.6 MB/s eta 0:00:01\r\u001b[K     |██████████▉                     | 348 kB 29.6 MB/s eta 0:00:01\r\u001b[K     |███████████▏                    | 358 kB 29.6 MB/s eta 0:00:01\r\u001b[K     |███████████▍                    | 368 kB 29.6 MB/s eta 0:00:01\r\u001b[K     |███████████▊                    | 378 kB 29.6 MB/s eta 0:00:01\r\u001b[K     |████████████                    | 389 kB 29.6 MB/s eta 0:00:01\r\u001b[K     |████████████▍                   | 399 kB 29.6 MB/s eta 0:00:01\r\u001b[K     |████████████▊                   | 409 kB 29.6 MB/s eta 0:00:01\r\u001b[K     |█████████████                   | 419 kB 29.6 MB/s eta 0:00:01\r\u001b[K     |█████████████▍                  | 430 kB 29.6 MB/s eta 0:00:01\r\u001b[K     |█████████████▋                  | 440 kB 29.6 MB/s eta 0:00:01\r\u001b[K     |██████████████                  | 450 kB 29.6 MB/s eta 0:00:01\r\u001b[K     |██████████████▎                 | 460 kB 29.6 MB/s eta 0:00:01\r\u001b[K     |██████████████▋                 | 471 kB 29.6 MB/s eta 0:00:01\r\u001b[K     |███████████████                 | 481 kB 29.6 MB/s eta 0:00:01\r\u001b[K     |███████████████▎                | 491 kB 29.6 MB/s eta 0:00:01\r\u001b[K     |███████████████▋                | 501 kB 29.6 MB/s eta 0:00:01\r\u001b[K     |███████████████▉                | 512 kB 29.6 MB/s eta 0:00:01\r\u001b[K     |████████████████▏               | 522 kB 29.6 MB/s eta 0:00:01\r\u001b[K     |████████████████▌               | 532 kB 29.6 MB/s eta 0:00:01\r\u001b[K     |████████████████▉               | 542 kB 29.6 MB/s eta 0:00:01\r\u001b[K     |█████████████████▏              | 552 kB 29.6 MB/s eta 0:00:01\r\u001b[K     |█████████████████▌              | 563 kB 29.6 MB/s eta 0:00:01\r\u001b[K     |█████████████████▉              | 573 kB 29.6 MB/s eta 0:00:01\r\u001b[K     |██████████████████              | 583 kB 29.6 MB/s eta 0:00:01\r\u001b[K     |██████████████████▍             | 593 kB 29.6 MB/s eta 0:00:01\r\u001b[K     |██████████████████▊             | 604 kB 29.6 MB/s eta 0:00:01\r\u001b[K     |███████████████████             | 614 kB 29.6 MB/s eta 0:00:01\r\u001b[K     |███████████████████▍            | 624 kB 29.6 MB/s eta 0:00:01\r\u001b[K     |███████████████████▊            | 634 kB 29.6 MB/s eta 0:00:01\r\u001b[K     |████████████████████            | 645 kB 29.6 MB/s eta 0:00:01\r\u001b[K     |████████████████████▎           | 655 kB 29.6 MB/s eta 0:00:01\r\u001b[K     |████████████████████▋           | 665 kB 29.6 MB/s eta 0:00:01\r\u001b[K     |█████████████████████           | 675 kB 29.6 MB/s eta 0:00:01\r\u001b[K     |█████████████████████▎          | 686 kB 29.6 MB/s eta 0:00:01\r\u001b[K     |█████████████████████▋          | 696 kB 29.6 MB/s eta 0:00:01\r\u001b[K     |██████████████████████          | 706 kB 29.6 MB/s eta 0:00:01\r\u001b[K     |██████████████████████▎         | 716 kB 29.6 MB/s eta 0:00:01\r\u001b[K     |██████████████████████▋         | 727 kB 29.6 MB/s eta 0:00:01\r\u001b[K     |██████████████████████▉         | 737 kB 29.6 MB/s eta 0:00:01\r\u001b[K     |███████████████████████▏        | 747 kB 29.6 MB/s eta 0:00:01\r\u001b[K     |███████████████████████▌        | 757 kB 29.6 MB/s eta 0:00:01\r\u001b[K     |███████████████████████▉        | 768 kB 29.6 MB/s eta 0:00:01\r\u001b[K     |████████████████████████▏       | 778 kB 29.6 MB/s eta 0:00:01\r\u001b[K     |████████████████████████▌       | 788 kB 29.6 MB/s eta 0:00:01\r\u001b[K     |████████████████████████▉       | 798 kB 29.6 MB/s eta 0:00:01\r\u001b[K     |█████████████████████████       | 808 kB 29.6 MB/s eta 0:00:01\r\u001b[K     |█████████████████████████▍      | 819 kB 29.6 MB/s eta 0:00:01\r\u001b[K     |█████████████████████████▊      | 829 kB 29.6 MB/s eta 0:00:01\r\u001b[K     |██████████████████████████      | 839 kB 29.6 MB/s eta 0:00:01\r\u001b[K     |██████████████████████████▍     | 849 kB 29.6 MB/s eta 0:00:01\r\u001b[K     |██████████████████████████▊     | 860 kB 29.6 MB/s eta 0:00:01\r\u001b[K     |███████████████████████████     | 870 kB 29.6 MB/s eta 0:00:01\r\u001b[K     |███████████████████████████▎    | 880 kB 29.6 MB/s eta 0:00:01\r\u001b[K     |███████████████████████████▋    | 890 kB 29.6 MB/s eta 0:00:01\r\u001b[K     |████████████████████████████    | 901 kB 29.6 MB/s eta 0:00:01\r\u001b[K     |████████████████████████████▎   | 911 kB 29.6 MB/s eta 0:00:01\r\u001b[K     |████████████████████████████▋   | 921 kB 29.6 MB/s eta 0:00:01\r\u001b[K     |█████████████████████████████   | 931 kB 29.6 MB/s eta 0:00:01\r\u001b[K     |█████████████████████████████▎  | 942 kB 29.6 MB/s eta 0:00:01\r\u001b[K     |█████████████████████████████▌  | 952 kB 29.6 MB/s eta 0:00:01\r\u001b[K     |█████████████████████████████▉  | 962 kB 29.6 MB/s eta 0:00:01\r\u001b[K     |██████████████████████████████▏ | 972 kB 29.6 MB/s eta 0:00:01\r\u001b[K     |██████████████████████████████▌ | 983 kB 29.6 MB/s eta 0:00:01\r\u001b[K     |██████████████████████████████▉ | 993 kB 29.6 MB/s eta 0:00:01\r\u001b[K     |███████████████████████████████▏| 1.0 MB 29.6 MB/s eta 0:00:01\r\u001b[K     |███████████████████████████████▌| 1.0 MB 29.6 MB/s eta 0:00:01\r\u001b[K     |███████████████████████████████▊| 1.0 MB 29.6 MB/s eta 0:00:01\r\u001b[K     |████████████████████████████████| 1.0 MB 29.6 MB/s \n",
            "\u001b[?25hRequirement already satisfied: shapely>=1.6 in /usr/local/lib/python3.7/dist-packages (from geopandas) (1.7.1)\n",
            "Collecting pyproj>=2.2.0\n",
            "  Downloading pyproj-3.2.1-cp37-cp37m-manylinux2010_x86_64.whl (6.3 MB)\n",
            "\u001b[K     |████████████████████████████████| 6.3 MB 35.7 MB/s \n",
            "\u001b[?25hRequirement already satisfied: pandas>=0.25.0 in /usr/local/lib/python3.7/dist-packages (from geopandas) (1.1.5)\n",
            "Requirement already satisfied: fiona>=1.8 in /usr/local/lib/python3.7/dist-packages (from geopandas) (1.8.20)\n",
            "Requirement already satisfied: certifi in /usr/local/lib/python3.7/dist-packages (from fiona>=1.8->geopandas) (2021.5.30)\n",
            "Requirement already satisfied: six>=1.7 in /usr/local/lib/python3.7/dist-packages (from fiona>=1.8->geopandas) (1.15.0)\n",
            "Requirement already satisfied: attrs>=17 in /usr/local/lib/python3.7/dist-packages (from fiona>=1.8->geopandas) (21.2.0)\n",
            "Requirement already satisfied: cligj>=0.5 in /usr/local/lib/python3.7/dist-packages (from fiona>=1.8->geopandas) (0.7.2)\n",
            "Requirement already satisfied: click>=4.0 in /usr/local/lib/python3.7/dist-packages (from fiona>=1.8->geopandas) (7.1.2)\n",
            "Requirement already satisfied: setuptools in /usr/local/lib/python3.7/dist-packages (from fiona>=1.8->geopandas) (57.4.0)\n",
            "Requirement already satisfied: munch in /usr/local/lib/python3.7/dist-packages (from fiona>=1.8->geopandas) (2.5.0)\n",
            "Requirement already satisfied: click-plugins>=1.0 in /usr/local/lib/python3.7/dist-packages (from fiona>=1.8->geopandas) (1.1.1)\n",
            "Requirement already satisfied: numpy>=1.15.4 in /usr/local/lib/python3.7/dist-packages (from pandas>=0.25.0->geopandas) (1.19.5)\n",
            "Requirement already satisfied: python-dateutil>=2.7.3 in /usr/local/lib/python3.7/dist-packages (from pandas>=0.25.0->geopandas) (2.8.2)\n",
            "Requirement already satisfied: pytz>=2017.2 in /usr/local/lib/python3.7/dist-packages (from pandas>=0.25.0->geopandas) (2018.9)\n",
            "Installing collected packages: pyproj, geopandas\n",
            "Successfully installed geopandas-0.10.2 pyproj-3.2.1\n"
          ]
        }
      ]
    },
    {
      "cell_type": "code",
      "metadata": {
        "id": "8b38a442-9979-4443-87cd-b561e88fb0e9"
      },
      "source": [
        "import geopandas as gpd\n",
        "\n",
        "# Read shapefiles\n",
        "cp_poly = gpd.read_file(\"/content/cropPoly.shp\")\n",
        "cp_lines = gpd.read_file(\"/content/cropLine.shp\")\n",
        "cp_points = gpd.read_file(\"/content/cropPoints.shp\")"
      ],
      "id": "8b38a442-9979-4443-87cd-b561e88fb0e9",
      "execution_count": 22,
      "outputs": []
    },
    {
      "cell_type": "code",
      "metadata": {
        "id": "sPhSW-RfQzSE",
        "colab": {
          "base_uri": "https://localhost:8080/",
          "height": 830
        },
        "outputId": "5aa22a2e-abd7-4cc5-b83b-ddf22cfbf3e8"
      },
      "source": [
        "# Plot the dhape files individually\n",
        "cp_poly.plot(column=\"Name\")\n",
        "cp_lines.plot(column=\"Name\")\n",
        "cp_points.plot(column=\"Name\")"
      ],
      "id": "sPhSW-RfQzSE",
      "execution_count": 23,
      "outputs": [
        {
          "output_type": "execute_result",
          "data": {
            "text/plain": [
              "<matplotlib.axes._subplots.AxesSubplot at 0x7fddadd3a6d0>"
            ]
          },
          "metadata": {},
          "execution_count": 23
        },
        {
          "output_type": "display_data",
          "data": {
            "image/png": "[encoded data removed]",
            "text/plain": [
              "<Figure size 432x288 with 1 Axes>"
            ]
          },
          "metadata": {
            "needs_background": "light"
          }
        },
        {
          "output_type": "display_data",
          "data": {
            "image/png": "[encoded data removed]",
            "text/plain": [
              "<Figure size 432x288 with 1 Axes>"
            ]
          },
          "metadata": {
            "needs_background": "light"
          }
        },
        {
          "output_type": "display_data",
          "data": {
            "image/png": "[encoded data removed]",
            "text/plain": [
              "<Figure size 432x288 with 1 Axes>"
            ]
          },
          "metadata": {
            "needs_background": "light"
          }
        }
      ]
    },
    {
      "cell_type": "code",
      "metadata": {
        "collapsed": true,
        "id": "9hPjiJCuRlhC",
        "colab": {
          "base_uri": "https://localhost:8080/",
          "height": 286
        },
        "outputId": "764d70bf-2e06-4c7b-abf2-3346e1cce19e"
      },
      "source": [
        "import matplotlib.pyplot as plt\n",
        "# plot the shapefiles as subplots\n",
        "fig, ax = plt.subplots(figsize=(4,6))\n",
        "cp_poly.plot(ax=ax, column=\"Name\")\n",
        "cp_lines.plot(ax=ax, column=\"Name\")\n",
        "cp_points.plot(ax=ax, column=\"Name\")\n",
        "\n",
        "ax.axis('off')"
      ],
      "id": "9hPjiJCuRlhC",
      "execution_count": 24,
      "outputs": [
        {
          "output_type": "execute_result",
          "data": {
            "text/plain": [
              "(-84.20251004688515, -84.20005556100153, 9.47926810307702, 9.4818392947777)"
            ]
          },
          "metadata": {},
          "execution_count": 24
        },
        {
          "output_type": "display_data",
          "data": {
            "image/png": "[encoded data removed]",
            "text/plain": [
              "<Figure size 288x432 with 1 Axes>"
            ]
          },
          "metadata": {
            "needs_background": "light"
          }
        }
      ]
    }
  ]
}